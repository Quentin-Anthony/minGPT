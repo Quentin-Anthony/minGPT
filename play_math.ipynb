{
 "cells": [
  {
   "cell_type": "markdown",
   "metadata": {},
   "source": [
    "## Train GPT on addition\n",
    "\n",
    "Train a GPT model on a dedicated addition dataset to see if a Transformer can learn to add."
   ]
  },
  {
   "cell_type": "code",
   "execution_count": 1,
   "metadata": {},
   "outputs": [],
   "source": [
    "# set up logging\n",
    "import logging\n",
    "logging.basicConfig(\n",
    "        format=\"%(asctime)s - %(levelname)s - %(name)s -   %(message)s\",\n",
    "        datefmt=\"%m/%d/%Y %H:%M:%S\",\n",
    "        level=logging.INFO,\n",
    ")"
   ]
  },
  {
   "cell_type": "code",
   "execution_count": 2,
   "metadata": {},
   "outputs": [],
   "source": [
    "# make deterministic\n",
    "from mingpt.utils import set_seed\n",
    "set_seed(42)"
   ]
  },
  {
   "cell_type": "code",
   "execution_count": 3,
   "metadata": {},
   "outputs": [],
   "source": [
    "import jax\n",
    "import jax.numpy as jnp\n",
    "import haiku as hk"
   ]
  },
  {
   "cell_type": "code",
   "execution_count": 4,
   "metadata": {},
   "outputs": [
    {
     "name": "stderr",
     "output_type": "stream",
     "text": [
      "07/12/2021 19:47:43 - INFO - absl -   Starting the local TPU driver.\n",
      "07/12/2021 19:47:43 - INFO - absl -   Unable to initialize backend 'tpu_driver': Not found: Unable to find driver in registry given worker: local://\n",
      "07/12/2021 19:47:46 - INFO - absl -   Unable to initialize backend 'tpu': Invalid argument: TpuPlatform is not available.\n"
     ]
    },
    {
     "data": {
      "text/plain": [
       "'gpu'"
      ]
     },
     "execution_count": 4,
     "metadata": {},
     "output_type": "execute_result"
    }
   ],
   "source": [
    "jax.default_backend()"
   ]
  },
  {
   "cell_type": "code",
   "execution_count": 5,
   "metadata": {},
   "outputs": [],
   "source": [
    "from tqdm import tqdm\n",
    "import math\n",
    "import numpy as np\n",
    "from typing import Mapping\n",
    "import functools\n",
    "from functools import partial\n",
    "\n",
    "import torch\n",
    "from torch.utils.data import Dataset"
   ]
  },
  {
   "cell_type": "code",
   "execution_count": 6,
   "metadata": {},
   "outputs": [],
   "source": [
    "from torch.utils.data import Dataset\n",
    "\n",
    "class AdditionDataset(Dataset):\n",
    "    \"\"\"\n",
    "    Returns addition problems of up to some number of digits in the inputs. Recall\n",
    "    that all GPT cares about are sequences of integers, and completing them according to\n",
    "    patterns in the data. Therefore, we have to somehow encode addition problems\n",
    "    as a sequence of integers.\n",
    "    \n",
    "    The sum of two n-digit numbers gives a third up to (n+1)-digit number. So our\n",
    "    encoding will simply be the n-digit first number, n-digit second number, \n",
    "    and (n+1)-digit result, all simply concatenated together. Because each addition\n",
    "    problem is so structured, there is no need to bother the model with encoding\n",
    "    +, =, or other tokens. Each possible sequence has the same length, and simply\n",
    "    contains the raw digits of the addition problem.\n",
    "    \n",
    "    As a few examples, the 2-digit problems:\n",
    "    - 85 + 50 = 135 becomes the sequence [8, 5, 5, 0, 1, 3, 5]\n",
    "    - 6 + 39 = 45 becomes the sequence [0, 6, 3, 9, 0, 4, 5]\n",
    "    etc.\n",
    "    \n",
    "    We will also only train GPT on the final (n+1)-digits because the first\n",
    "    two n-digits are always assumed to be given. So when we give GPT an exam later,\n",
    "    we will e.g. feed it the sequence [0, 6, 3, 9], which encodes that we'd like\n",
    "    to add 6 + 39, and hope that the model completes the integer sequence with [0, 4, 5]\n",
    "    in 3 sequential steps.\n",
    "    \n",
    "    fun exercise: does it help if the result is asked to be produced in reverse order?\n",
    "    \"\"\"\n",
    "\n",
    "    def __init__(self, ndigit, split):\n",
    "        self.split = split # train/test\n",
    "        self.ndigit = ndigit\n",
    "        self.vocab_size = 10 # 10 possible digits 0..9\n",
    "        # +1 due to potential carry overflow, but then -1 because very last digit doesn't plug back\n",
    "        self.block_size = ndigit + ndigit + ndigit + 1 - 1\n",
    "        \n",
    "        # split up all addition problems into either training data or test data\n",
    "        num = (10**self.ndigit)**2 # total number of possible combinations\n",
    "        r = np.random.RandomState(1337) # make deterministic\n",
    "        perm = r.permutation(num)\n",
    "        num_test = min(int(num*0.2), 1000) # 20% of the whole dataset, or only up to 1000\n",
    "        self.ixes = perm[:num_test] if split == 'test' else perm[num_test:]\n",
    "\n",
    "    def __len__(self):\n",
    "        return self.ixes.size\n",
    "\n",
    "    def __getitem__(self, idx):\n",
    "        # given a problem index idx, first recover the associated a + b\n",
    "        idx = self.ixes[idx]\n",
    "        nd = 10**self.ndigit\n",
    "        a = idx // nd\n",
    "        b = idx %  nd\n",
    "        c = a + b\n",
    "        render = f'%0{self.ndigit}d%0{self.ndigit}d%0{self.ndigit+1}d' % (a,b,c) # e.g. 03+25=28 becomes \"0325028\" \n",
    "        dix = [int(s) for s in render] # convert each character to its token index\n",
    "        # x will be input to GPT and y will be the associated expected outputs\n",
    "        x = torch.tensor(dix[:-1], dtype=torch.long)\n",
    "        y = torch.tensor(dix[1:], dtype=torch.long) # predict the next token in the sequence\n",
    "        y[:self.ndigit*2-1] = -100 # we will only train in the output locations. -100 will mask loss to zero\n",
    "        return x, y\n"
   ]
  },
  {
   "cell_type": "code",
   "execution_count": 7,
   "metadata": {},
   "outputs": [],
   "source": [
    "# create a dataset for e.g. 2-digit addition\n",
    "ndigit = 2\n",
    "train_dataset = AdditionDataset(ndigit=ndigit, split='train')\n",
    "test_dataset = AdditionDataset(ndigit=ndigit, split='test')"
   ]
  },
  {
   "cell_type": "code",
   "execution_count": 8,
   "metadata": {},
   "outputs": [
    {
     "data": {
      "text/plain": [
       "(tensor([4, 7, 1, 7, 0, 6]), tensor([-100, -100, -100,    0,    6,    4]))"
      ]
     },
     "execution_count": 8,
     "metadata": {},
     "output_type": "execute_result"
    }
   ],
   "source": [
    "train_dataset[0] # sample a training instance just to see what one raw example looks like"
   ]
  },
  {
   "cell_type": "code",
   "execution_count": 9,
   "metadata": {},
   "outputs": [],
   "source": [
    "from mingpt.model import gpt, loss_fn, GPTConfig\n",
    "\n",
    "rng = jax.random.PRNGKey(42)\n",
    "# initialize a baby GPT model\n",
    "gpt_config = GPTConfig(train_dataset.vocab_size, train_dataset.block_size, \n",
    "                  n_layer=2, n_head=4, n_embd=128)\n",
    "hk_loss_fn = hk.transform(partial(loss_fn, config=gpt_config, is_training=True))"
   ]
  },
  {
   "cell_type": "code",
   "execution_count": 10,
   "metadata": {
    "scrolled": true
   },
   "outputs": [],
   "source": [
    "from mingpt.trainer import Trainer, TrainerConfig\n",
    "\n",
    "# initialize a trainer instance and kick off training\n",
    "rng, subkey = jax.random.split(rng)\n",
    "tconf = TrainerConfig(max_epochs=50, batch_size=512//2, learning_rate=6e-4,\n",
    "                      lr_decay=True, warmup_tokens=1024, final_tokens=50*len(train_dataset)*(ndigit+1),\n",
    "                      num_workers=4, rng=subkey, step_tokens=3)\n",
    "trainer = Trainer(hk_loss_fn, train_dataset, test_dataset, tconf)"
   ]
  },
  {
   "cell_type": "code",
   "execution_count": 11,
   "metadata": {},
   "outputs": [
    {
     "name": "stderr",
     "output_type": "stream",
     "text": [
      "07/12/2021 19:47:51 - INFO - mingpt.trainer -   number of parameters: 400128\n"
     ]
    }
   ],
   "source": [
    "params = trainer.init_params() "
   ]
  },
  {
   "cell_type": "code",
   "execution_count": 12,
   "metadata": {
    "scrolled": false
   },
   "outputs": [
    {
     "name": "stderr",
     "output_type": "stream",
     "text": [
      "epoch 1 iter 35: train loss 1.61442. lr 5.994563e-04: 100%|██████████| 36/36 [00:13<00:00,  2.64it/s]\n",
      "07/12/2021 19:48:08 - INFO - mingpt.trainer -   test loss: 1.6264678239822388\n",
      "epoch 2 iter 71: train loss 1.38843. lr 5.976741e-04: 100%|██████████| 36/36 [00:00<00:00, 46.04it/s]\n",
      "07/12/2021 19:48:09 - INFO - mingpt.trainer -   test loss: 1.3747758865356445\n",
      "epoch 3 iter 107: train loss 1.28575. lr 5.946582e-04: 100%|██████████| 36/36 [00:00<00:00, 46.47it/s]\n",
      "07/12/2021 19:48:10 - INFO - mingpt.trainer -   test loss: 1.2910583019256592\n",
      "epoch 4 iter 143: train loss 1.14097. lr 5.904211e-04: 100%|██████████| 36/36 [00:00<00:00, 46.29it/s]\n",
      "07/12/2021 19:48:11 - INFO - mingpt.trainer -   test loss: 1.1838712692260742\n",
      "epoch 5 iter 179: train loss 1.14218. lr 5.849804e-04: 100%|██████████| 36/36 [00:00<00:00, 47.69it/s]\n",
      "07/12/2021 19:48:12 - INFO - mingpt.trainer -   test loss: 1.155096173286438\n",
      "epoch 6 iter 215: train loss 1.12735. lr 5.783586e-04: 100%|██████████| 36/36 [00:00<00:00, 48.58it/s]\n",
      "07/12/2021 19:48:13 - INFO - mingpt.trainer -   test loss: 1.0891754627227783\n",
      "epoch 7 iter 251: train loss 0.94706. lr 5.705831e-04: 100%|██████████| 36/36 [00:00<00:00, 47.82it/s]\n",
      "07/12/2021 19:48:15 - INFO - mingpt.trainer -   test loss: 1.0348296165466309\n",
      "epoch 8 iter 287: train loss 0.71986. lr 5.616862e-04: 100%|██████████| 36/36 [00:00<00:00, 45.14it/s]\n",
      "07/12/2021 19:48:16 - INFO - mingpt.trainer -   test loss: 0.6583907604217529\n",
      "epoch 9 iter 323: train loss 0.51966. lr 5.517047e-04: 100%|██████████| 36/36 [00:00<00:00, 46.10it/s]\n",
      "07/12/2021 19:48:17 - INFO - mingpt.trainer -   test loss: 0.6048290729522705\n",
      "epoch 10 iter 359: train loss 0.49883. lr 5.406801e-04: 100%|██████████| 36/36 [00:00<00:00, 44.50it/s]\n",
      "07/12/2021 19:48:18 - INFO - mingpt.trainer -   test loss: 0.5540659427642822\n",
      "epoch 11 iter 395: train loss 0.37754. lr 5.286580e-04: 100%|██████████| 36/36 [00:00<00:00, 45.88it/s]\n",
      "07/12/2021 19:48:19 - INFO - mingpt.trainer -   test loss: 0.5098455548286438\n",
      "epoch 12 iter 431: train loss 0.48715. lr 5.156882e-04: 100%|██████████| 36/36 [00:00<00:00, 45.10it/s]\n",
      "07/12/2021 19:48:21 - INFO - mingpt.trainer -   test loss: 0.42372679710388184\n",
      "epoch 13 iter 467: train loss 0.30886. lr 5.018245e-04: 100%|██████████| 36/36 [00:00<00:00, 43.24it/s]\n",
      "07/12/2021 19:48:22 - INFO - mingpt.trainer -   test loss: 0.3661208748817444\n",
      "epoch 14 iter 503: train loss 0.29551. lr 4.871244e-04: 100%|██████████| 36/36 [00:00<00:00, 44.72it/s]\n",
      "07/12/2021 19:48:23 - INFO - mingpt.trainer -   test loss: 0.31954461336135864\n",
      "epoch 15 iter 539: train loss 0.32650. lr 4.716487e-04: 100%|██████████| 36/36 [00:00<00:00, 41.44it/s]\n",
      "07/12/2021 19:48:24 - INFO - mingpt.trainer -   test loss: 0.3021555542945862\n",
      "epoch 16 iter 575: train loss 0.19712. lr 4.554616e-04: 100%|██████████| 36/36 [00:00<00:00, 38.27it/s]\n",
      "07/12/2021 19:48:26 - INFO - mingpt.trainer -   test loss: 0.2506055235862732\n",
      "epoch 17 iter 611: train loss 0.22280. lr 4.386302e-04: 100%|██████████| 36/36 [00:00<00:00, 45.84it/s]\n",
      "07/12/2021 19:48:27 - INFO - mingpt.trainer -   test loss: 0.26149284839630127\n",
      "epoch 18 iter 647: train loss 0.23839. lr 4.212243e-04: 100%|██████████| 36/36 [00:00<00:00, 46.98it/s]\n",
      "07/12/2021 19:48:28 - INFO - mingpt.trainer -   test loss: 0.1867314577102661\n",
      "epoch 19 iter 683: train loss 0.23973. lr 4.033159e-04: 100%|██████████| 36/36 [00:00<00:00, 47.09it/s]\n",
      "07/12/2021 19:48:29 - INFO - mingpt.trainer -   test loss: 0.16285482048988342\n",
      "epoch 20 iter 719: train loss 0.18785. lr 3.849794e-04: 100%|██████████| 36/36 [00:00<00:00, 46.81it/s]\n",
      "07/12/2021 19:48:30 - INFO - mingpt.trainer -   test loss: 0.20172719657421112\n",
      "epoch 21 iter 755: train loss 0.16806. lr 3.662907e-04: 100%|██████████| 36/36 [00:00<00:00, 44.48it/s]\n",
      "07/12/2021 19:48:32 - INFO - mingpt.trainer -   test loss: 0.14195790886878967\n",
      "epoch 22 iter 791: train loss 0.21426. lr 3.473272e-04: 100%|██████████| 36/36 [00:00<00:00, 44.52it/s]\n",
      "07/12/2021 19:48:33 - INFO - mingpt.trainer -   test loss: 0.12761378288269043\n",
      "epoch 23 iter 827: train loss 0.29124. lr 3.281676e-04: 100%|██████████| 36/36 [00:00<00:00, 48.08it/s]\n",
      "07/12/2021 19:48:34 - INFO - mingpt.trainer -   test loss: 0.137027770280838\n",
      "epoch 24 iter 863: train loss 0.11118. lr 3.088913e-04: 100%|██████████| 36/36 [00:00<00:00, 45.06it/s]\n",
      "07/12/2021 19:48:35 - INFO - mingpt.trainer -   test loss: 0.21828511357307434\n",
      "epoch 25 iter 899: train loss 0.14902. lr 2.895781e-04: 100%|██████████| 36/36 [00:00<00:00, 46.12it/s]\n",
      "07/12/2021 19:48:36 - INFO - mingpt.trainer -   test loss: 0.1480918973684311\n",
      "epoch 26 iter 935: train loss 0.20474. lr 2.703081e-04: 100%|██████████| 36/36 [00:00<00:00, 45.41it/s]\n",
      "07/12/2021 19:48:37 - INFO - mingpt.trainer -   test loss: 0.16858229041099548\n",
      "epoch 27 iter 971: train loss 0.05354. lr 2.511611e-04: 100%|██████████| 36/36 [00:00<00:00, 47.29it/s]\n",
      "07/12/2021 19:48:38 - INFO - mingpt.trainer -   test loss: 0.1294332593679428\n",
      "epoch 28 iter 1007: train loss 0.05056. lr 2.322166e-04: 100%|██████████| 36/36 [00:00<00:00, 47.08it/s]\n",
      "07/12/2021 19:48:40 - INFO - mingpt.trainer -   test loss: 0.08368241786956787\n",
      "epoch 29 iter 1043: train loss 0.11194. lr 2.135530e-04: 100%|██████████| 36/36 [00:00<00:00, 47.62it/s]\n",
      "07/12/2021 19:48:41 - INFO - mingpt.trainer -   test loss: 0.11884158849716187\n",
      "epoch 30 iter 1079: train loss 0.06360. lr 1.952476e-04: 100%|██████████| 36/36 [00:00<00:00, 45.92it/s]\n",
      "07/12/2021 19:48:42 - INFO - mingpt.trainer -   test loss: 0.11305689811706543\n",
      "epoch 31 iter 1115: train loss 0.12532. lr 1.773765e-04: 100%|██████████| 36/36 [00:00<00:00, 47.02it/s]\n",
      "07/12/2021 19:48:43 - INFO - mingpt.trainer -   test loss: 0.0876958966255188\n",
      "epoch 32 iter 1151: train loss 0.09272. lr 1.600134e-04: 100%|██████████| 36/36 [00:00<00:00, 47.39it/s]\n",
      "07/12/2021 19:48:44 - INFO - mingpt.trainer -   test loss: 0.07106667011976242\n",
      "epoch 33 iter 1187: train loss 0.06217. lr 1.432306e-04: 100%|██████████| 36/36 [00:00<00:00, 44.08it/s]\n",
      "07/12/2021 19:48:45 - INFO - mingpt.trainer -   test loss: 0.07623020559549332\n",
      "epoch 34 iter 1223: train loss 0.16722. lr 1.270975e-04: 100%|██████████| 36/36 [00:00<00:00, 45.29it/s]\n",
      "07/12/2021 19:48:47 - INFO - mingpt.trainer -   test loss: 0.06488573551177979\n",
      "epoch 35 iter 1259: train loss 0.07871. lr 1.116811e-04: 100%|██████████| 36/36 [00:00<00:00, 47.33it/s]\n",
      "07/12/2021 19:48:48 - INFO - mingpt.trainer -   test loss: 0.0689111202955246\n",
      "epoch 36 iter 1295: train loss 0.05145. lr 9.704508e-05: 100%|██████████| 36/36 [00:00<00:00, 46.74it/s]\n",
      "07/12/2021 19:48:49 - INFO - mingpt.trainer -   test loss: 0.11225013434886932\n",
      "epoch 37 iter 1331: train loss 0.01725. lr 8.325014e-05: 100%|██████████| 36/36 [00:00<00:00, 47.78it/s]\n",
      "07/12/2021 19:48:50 - INFO - mingpt.trainer -   test loss: 0.08124697208404541\n",
      "epoch 38 iter 1367: train loss 0.08614. lr 7.035359e-05: 100%|██████████| 36/36 [00:00<00:00, 46.29it/s]\n",
      "07/12/2021 19:48:51 - INFO - mingpt.trainer -   test loss: 0.058192357420921326\n",
      "epoch 39 iter 1403: train loss 0.02812. lr 6.000000e-05: 100%|██████████| 36/36 [00:00<00:00, 47.82it/s]\n",
      "07/12/2021 19:48:52 - INFO - mingpt.trainer -   test loss: 0.04809994995594025\n",
      "epoch 40 iter 1439: train loss 0.01513. lr 6.000000e-05: 100%|██████████| 36/36 [00:00<00:00, 47.61it/s]\n",
      "07/12/2021 19:48:53 - INFO - mingpt.trainer -   test loss: 0.06772198528051376\n",
      "epoch 41 iter 1475: train loss 0.06107. lr 6.000000e-05: 100%|██████████| 36/36 [00:00<00:00, 43.72it/s]\n",
      "07/12/2021 19:48:55 - INFO - mingpt.trainer -   test loss: 0.06918846070766449\n",
      "epoch 42 iter 1511: train loss 0.05478. lr 6.000000e-05: 100%|██████████| 36/36 [00:00<00:00, 44.89it/s]\n",
      "07/12/2021 19:48:56 - INFO - mingpt.trainer -   test loss: 0.047120533883571625\n",
      "epoch 43 iter 1547: train loss 0.04128. lr 6.000000e-05: 100%|██████████| 36/36 [00:00<00:00, 47.56it/s]\n",
      "07/12/2021 19:48:57 - INFO - mingpt.trainer -   test loss: 0.12421192973852158\n",
      "epoch 44 iter 1583: train loss 0.07131. lr 6.000000e-05: 100%|██████████| 36/36 [00:00<00:00, 45.32it/s]\n",
      "07/12/2021 19:48:58 - INFO - mingpt.trainer -   test loss: 0.05540753901004791\n",
      "epoch 45 iter 1619: train loss 0.03442. lr 6.000000e-05: 100%|██████████| 36/36 [00:00<00:00, 46.15it/s]\n",
      "07/12/2021 19:48:59 - INFO - mingpt.trainer -   test loss: 0.09068436175584793\n"
     ]
    },
    {
     "name": "stderr",
     "output_type": "stream",
     "text": [
      "epoch 46 iter 1655: train loss 0.06087. lr 6.000000e-05: 100%|██████████| 36/36 [00:00<00:00, 45.66it/s]\n",
      "07/12/2021 19:49:01 - INFO - mingpt.trainer -   test loss: 0.05404561012983322\n",
      "epoch 47 iter 1691: train loss 0.07519. lr 6.000000e-05: 100%|██████████| 36/36 [00:00<00:00, 45.89it/s]\n",
      "07/12/2021 19:49:02 - INFO - mingpt.trainer -   test loss: 0.04081426188349724\n",
      "epoch 48 iter 1727: train loss 0.05883. lr 6.000000e-05: 100%|██████████| 36/36 [00:00<00:00, 48.29it/s]\n",
      "07/12/2021 19:49:03 - INFO - mingpt.trainer -   test loss: 0.05442686751484871\n",
      "epoch 49 iter 1763: train loss 0.04861. lr 6.000000e-05: 100%|██████████| 36/36 [00:00<00:00, 44.41it/s]\n",
      "07/12/2021 19:49:04 - INFO - mingpt.trainer -   test loss: 0.04484046995639801\n",
      "epoch 50 iter 1799: train loss 0.10623. lr 6.000000e-05: 100%|██████████| 36/36 [00:00<00:00, 46.88it/s]\n",
      "07/12/2021 19:49:05 - INFO - mingpt.trainer -   test loss: 0.07719170302152634\n"
     ]
    }
   ],
   "source": [
    "params, _ = trainer.train(params)"
   ]
  },
  {
   "cell_type": "code",
   "execution_count": 13,
   "metadata": {},
   "outputs": [],
   "source": [
    "# now let's give the trained model an addition exam\n",
    "from torch.utils.data.dataloader import DataLoader\n",
    "from mingpt.utils import sample\n",
    "\n",
    "model = hk.transform(partial(gpt, config=gpt_config, is_training=False))\n",
    "model = hk.without_apply_rng(model).apply\n",
    "\n",
    "def give_exam(dataset, batch_size=32, max_batches=-1):\n",
    "    batch_size=1024\n",
    "    max_batches=10\n",
    "    results = []\n",
    "    loader = DataLoader(dataset, batch_size=batch_size)\n",
    "    for b, (x, y) in enumerate(loader):\n",
    "        d1d2 = jnp.array(x[:, :ndigit*2])\n",
    "        batched_sample = partial(sample, params=params, model=model, config=gpt_config, steps=ndigit+1)\n",
    "        d1d2d3 = jax.vmap(batched_sample)(x=jnp.array(d1d2))\n",
    "        #d1d2d3 = sample(params, model, gpt_config, d1d2, ndigit+1\n",
    "        d3 = d1d2d3[:, -(ndigit+1):]\n",
    "        factors = jnp.array([[10**i for i in range(ndigit+1)][::-1]])\n",
    "        # decode the integers from individual digits\n",
    "        d1i = (d1d2[:,:ndigit] * factors[:,1:]).sum(1)\n",
    "        d2i = (d1d2[:,ndigit:ndigit*2] * factors[:,1:]).sum(1)\n",
    "        d3i_pred = (d3 * factors).sum(1)\n",
    "        d3i_gt = d1i + d2i\n",
    "        correct = (d3i_pred == d3i_gt) # Software 1.0 vs. Software 2.0 fight RIGHT on this line, lol\n",
    "        for i in range(x.size(0)):\n",
    "            results.append(int(correct[i]))\n",
    "            judge = 'YEP!!!' if correct[i] else 'NOPE'\n",
    "            if not correct[i]:\n",
    "                print(\"GPT claims that %03d + %03d = %03d (gt is %03d; %s)\" \n",
    "                      % (d1i[i], d2i[i], d3i_pred[i], d3i_gt[i], judge))\n",
    "        \n",
    "        if max_batches >= 0 and b+1 >= max_batches:\n",
    "            break\n",
    "    print(\"final score: %d/%d = %.2f%% correct\" % (np.sum(results), len(results), 100*np.mean(results)))"
   ]
  },
  {
   "cell_type": "code",
   "execution_count": 14,
   "metadata": {
    "scrolled": true
   },
   "outputs": [
    {
     "name": "stdout",
     "output_type": "stream",
     "text": [
      "final score: 9000/9000 = 100.00% correct\n"
     ]
    }
   ],
   "source": [
    "# training set: how well did we memorize?\n",
    "give_exam(train_dataset, batch_size=1024, max_batches=10)"
   ]
  },
  {
   "cell_type": "code",
   "execution_count": 15,
   "metadata": {},
   "outputs": [
    {
     "name": "stdout",
     "output_type": "stream",
     "text": [
      "final score: 1000/1000 = 100.00% correct\n"
     ]
    }
   ],
   "source": [
    "# test set: how well did we generalize?\n",
    "give_exam(test_dataset, batch_size=1024, max_batches=-1)"
   ]
  },
  {
   "cell_type": "code",
   "execution_count": 16,
   "metadata": {},
   "outputs": [],
   "source": [
    "# well that's amusing... we're lucky, sometimes the model can't generalize a couple of test cases"
   ]
  }
 ],
 "metadata": {
  "kernelspec": {
   "display_name": "Python [conda env:mingpt]",
   "language": "python",
   "name": "conda-env-mingpt-py"
  },
  "language_info": {
   "codemirror_mode": {
    "name": "ipython",
    "version": 3
   },
   "file_extension": ".py",
   "mimetype": "text/x-python",
   "name": "python",
   "nbconvert_exporter": "python",
   "pygments_lexer": "ipython3",
   "version": "3.9.5"
  },
  "toc": {
   "base_numbering": 1,
   "nav_menu": {},
   "number_sections": true,
   "sideBar": true,
   "skip_h1_title": false,
   "title_cell": "Table of Contents",
   "title_sidebar": "Contents",
   "toc_cell": false,
   "toc_position": {},
   "toc_section_display": true,
   "toc_window_display": false
  }
 },
 "nbformat": 4,
 "nbformat_minor": 4
}
